{
 "metadata": {
  "language_info": {
   "codemirror_mode": {
    "name": "ipython",
    "version": 3
   },
   "file_extension": ".py",
   "mimetype": "text/x-python",
   "name": "python",
   "nbconvert_exporter": "python",
   "pygments_lexer": "ipython3",
   "version": "3.7.6-final"
  },
  "orig_nbformat": 2,
  "kernelspec": {
   "name": "python_defaultSpec_1598669131111",
   "display_name": "Python 3.7.6 64-bit ('base': conda)"
  }
 },
 "nbformat": 4,
 "nbformat_minor": 2,
 "cells": [
  {
   "cell_type": "code",
   "execution_count": 1,
   "metadata": {},
   "outputs": [],
   "source": [
    "import torch"
   ]
  },
  {
   "cell_type": "code",
   "execution_count": 2,
   "metadata": {
    "tags": []
   },
   "outputs": [
    {
     "output_type": "stream",
     "name": "stdout",
     "text": "Directory exists.\nEpoch 0,    Gen Loss: 16.1597,   Dis Loss: 6.8234\nTime Taken: 24.4693 seconds. Estimated 0.6797 hours remaining\nEpoch 1,    Gen Loss: 24.5657,   Dis Loss: 4.0866\nTime Taken: 23.0320 seconds. Estimated 0.6334 hours remaining\nEpoch 2,    Gen Loss: 31.5541,   Dis Loss: 2.8901\nTime Taken: 22.8407 seconds. Estimated 0.6218 hours remaining\nEpoch 3,    Gen Loss: 24.9824,   Dis Loss: 4.6643\nTime Taken: 21.9898 seconds. Estimated 0.5925 hours remaining\nEpoch 4,    Gen Loss: 28.5119,   Dis Loss: 3.7530\nTime Taken: 23.6239 seconds. Estimated 0.6300 hours remaining\nEpoch 5,    Gen Loss: 30.8271,   Dis Loss: 3.3869\nTime Taken: 22.8754 seconds. Estimated 0.6037 hours remaining\nEpoch 6,    Gen Loss: 32.0932,   Dis Loss: 3.2697\nTime Taken: 22.9112 seconds. Estimated 0.5982 hours remaining\nEpoch 7,    Gen Loss: 36.2823,   Dis Loss: 2.5158\nTime Taken: 22.4198 seconds. Estimated 0.5792 hours remaining\nEpoch 8,    Gen Loss: 31.1460,   Dis Loss: 3.6265\nTime Taken: 22.6993 seconds. Estimated 0.5801 hours remaining\nEpoch 9,    Gen Loss: 28.8289,   Dis Loss: 4.0873\nTime Taken: 24.6588 seconds. Estimated 0.6233 hours remaining\nEpoch 10,    Gen Loss: 26.7728,   Dis Loss: 4.6769\nTime Taken: 23.1235 seconds. Estimated 0.5781 hours remaining\nEpoch 11,    Gen Loss: 25.9387,   Dis Loss: 4.9322\nTime Taken: 23.8784 seconds. Estimated 0.5903 hours remaining\nEpoch 12,    Gen Loss: 27.6184,   Dis Loss: 4.4873\nTime Taken: 23.0906 seconds. Estimated 0.5644 hours remaining\nEpoch 13,    Gen Loss: 36.0333,   Dis Loss: 2.7698\nTime Taken: 22.8702 seconds. Estimated 0.5527 hours remaining\nEpoch 14,    Gen Loss: 46.6221,   Dis Loss: 1.7228\nTime Taken: 23.0949 seconds. Estimated 0.5517 hours remaining\nEpoch 15,    Gen Loss: 54.2101,   Dis Loss: 1.1426\nTime Taken: 22.6266 seconds. Estimated 0.5342 hours remaining\nEpoch 16,    Gen Loss: 41.4122,   Dis Loss: 2.3870\nTime Taken: 21.0680 seconds. Estimated 0.4916 hours remaining\nEpoch 17,    Gen Loss: 39.2608,   Dis Loss: 2.5898\nTime Taken: 22.3808 seconds. Estimated 0.5160 hours remaining\nEpoch 18,    Gen Loss: 37.3024,   Dis Loss: 2.9477\nTime Taken: 22.6370 seconds. Estimated 0.5156 hours remaining\nEpoch 19,    Gen Loss: 35.0421,   Dis Loss: 3.2574\nTime Taken: 23.8132 seconds. Estimated 0.5358 hours remaining\nEpoch 20,    Gen Loss: 36.9451,   Dis Loss: 2.9784\nTime Taken: 21.0351 seconds. Estimated 0.4674 hours remaining\nEpoch 21,    Gen Loss: 37.5353,   Dis Loss: 2.8643\nTime Taken: 22.0904 seconds. Estimated 0.4848 hours remaining\nEpoch 22,    Gen Loss: 37.5656,   Dis Loss: 3.0078\nTime Taken: 21.3046 seconds. Estimated 0.4616 hours remaining\nEpoch 23,    Gen Loss: 41.6080,   Dis Loss: 2.3992\nTime Taken: 22.0410 seconds. Estimated 0.4714 hours remaining\nEpoch 24,    Gen Loss: 39.0932,   Dis Loss: 2.8006\nTime Taken: 22.1928 seconds. Estimated 0.4685 hours remaining\nEpoch 25,    Gen Loss: 41.3755,   Dis Loss: 2.4777\nTime Taken: 21.8617 seconds. Estimated 0.4555 hours remaining\nEpoch 26,    Gen Loss: 37.0239,   Dis Loss: 3.1996\nTime Taken: 20.6578 seconds. Estimated 0.4246 hours remaining\nEpoch 27,    Gen Loss: 37.6706,   Dis Loss: 2.9601\nTime Taken: 21.3594 seconds. Estimated 0.4331 hours remaining\nEpoch 28,    Gen Loss: 37.6769,   Dis Loss: 3.0625\nTime Taken: 21.6328 seconds. Estimated 0.4327 hours remaining\nEpoch 29,    Gen Loss: 37.9501,   Dis Loss: 3.1251\nTime Taken: 22.5771 seconds. Estimated 0.4453 hours remaining\nEpoch 30,    Gen Loss: 36.6024,   Dis Loss: 3.2473\nTime Taken: 22.3721 seconds. Estimated 0.4350 hours remaining\nEpoch 31,    Gen Loss: 38.9633,   Dis Loss: 2.9896\nTime Taken: 22.2281 seconds. Estimated 0.4260 hours remaining\nEpoch 32,    Gen Loss: 35.7699,   Dis Loss: 3.6124\nTime Taken: 22.3307 seconds. Estimated 0.4218 hours remaining\nEpoch 33,    Gen Loss: 33.1834,   Dis Loss: 3.9259\nTime Taken: 22.6022 seconds. Estimated 0.4207 hours remaining\nEpoch 34,    Gen Loss: 38.3801,   Dis Loss: 3.0329\nTime Taken: 22.3790 seconds. Estimated 0.4103 hours remaining\nEpoch 35,    Gen Loss: 39.6569,   Dis Loss: 2.7761\nTime Taken: 22.3161 seconds. Estimated 0.4029 hours remaining\nEpoch 36,    Gen Loss: 36.7081,   Dis Loss: 3.2444\nTime Taken: 22.2573 seconds. Estimated 0.3957 hours remaining\nEpoch 37,    Gen Loss: 45.8734,   Dis Loss: 2.0811\nTime Taken: 22.5883 seconds. Estimated 0.3953 hours remaining\nEpoch 38,    Gen Loss: 45.2534,   Dis Loss: 2.3665\nTime Taken: 22.8961 seconds. Estimated 0.3943 hours remaining\nEpoch 39,    Gen Loss: 42.8300,   Dis Loss: 2.5656\nTime Taken: 22.7490 seconds. Estimated 0.3855 hours remaining\nEpoch 40,    Gen Loss: 54.1051,   Dis Loss: 1.2678\nTime Taken: 21.8748 seconds. Estimated 0.3646 hours remaining\nEpoch 41,    Gen Loss: 48.6610,   Dis Loss: 2.0821\nTime Taken: 21.9529 seconds. Estimated 0.3598 hours remaining\nEpoch 42,    Gen Loss: 42.5572,   Dis Loss: 2.6645\nTime Taken: 21.2291 seconds. Estimated 0.3420 hours remaining\nEpoch 43,    Gen Loss: 43.6717,   Dis Loss: 2.5289\nTime Taken: 20.9493 seconds. Estimated 0.3317 hours remaining\nEpoch 44,    Gen Loss: 44.1928,   Dis Loss: 2.5967\nTime Taken: 21.0217 seconds. Estimated 0.3270 hours remaining\nEpoch 45,    Gen Loss: 42.8361,   Dis Loss: 2.6953\nTime Taken: 21.2119 seconds. Estimated 0.3241 hours remaining\nEpoch 46,    Gen Loss: 38.6266,   Dis Loss: 3.4506\nTime Taken: 21.5700 seconds. Estimated 0.3235 hours remaining\nEpoch 47,    Gen Loss: 37.0905,   Dis Loss: 3.5860\nTime Taken: 20.7979 seconds. Estimated 0.3062 hours remaining\nEpoch 48,    Gen Loss: 38.1618,   Dis Loss: 3.3035\nTime Taken: 21.0150 seconds. Estimated 0.3036 hours remaining\nEpoch 49,    Gen Loss: 39.5442,   Dis Loss: 3.1348\nTime Taken: 21.5066 seconds. Estimated 0.3047 hours remaining\nEpoch 50,    Gen Loss: 37.1761,   Dis Loss: 3.5606\nTime Taken: 21.2756 seconds. Estimated 0.2955 hours remaining\nEpoch 51,    Gen Loss: 40.0566,   Dis Loss: 2.9308\nTime Taken: 21.5612 seconds. Estimated 0.2935 hours remaining\nEpoch 52,    Gen Loss: 40.3982,   Dis Loss: 2.9290\nTime Taken: 23.6276 seconds. Estimated 0.3150 hours remaining\nEpoch 53,    Gen Loss: 41.2351,   Dis Loss: 2.8980\nTime Taken: 22.6221 seconds. Estimated 0.2953 hours remaining\nEpoch 54,    Gen Loss: 43.1573,   Dis Loss: 2.6798\nTime Taken: 21.2600 seconds. Estimated 0.2717 hours remaining\nEpoch 55,    Gen Loss: 47.3766,   Dis Loss: 2.0072\nTime Taken: 21.1158 seconds. Estimated 0.2639 hours remaining\nEpoch 56,    Gen Loss: 43.3180,   Dis Loss: 2.6558\nTime Taken: 20.4190 seconds. Estimated 0.2496 hours remaining\nEpoch 57,    Gen Loss: 45.5828,   Dis Loss: 2.3659\nTime Taken: 20.2954 seconds. Estimated 0.2424 hours remaining\nEpoch 58,    Gen Loss: 43.3974,   Dis Loss: 2.6647\nTime Taken: 20.1841 seconds. Estimated 0.2355 hours remaining\nEpoch 59,    Gen Loss: 41.2408,   Dis Loss: 2.9067\nTime Taken: 20.8402 seconds. Estimated 0.2373 hours remaining\nEpoch 60,    Gen Loss: 39.5410,   Dis Loss: 3.3968\nTime Taken: 21.0901 seconds. Estimated 0.2343 hours remaining\nEpoch 61,    Gen Loss: 35.6360,   Dis Loss: 3.9879\nTime Taken: 20.3966 seconds. Estimated 0.2210 hours remaining\nEpoch 62,    Gen Loss: 36.9878,   Dis Loss: 3.6891\nTime Taken: 21.7619 seconds. Estimated 0.2297 hours remaining\nEpoch 63,    Gen Loss: 36.4967,   Dis Loss: 3.8810\nTime Taken: 23.6057 seconds. Estimated 0.2426 hours remaining\nEpoch 64,    Gen Loss: 36.1634,   Dis Loss: 3.8244\nTime Taken: 23.1905 seconds. Estimated 0.2319 hours remaining\nEpoch 65,    Gen Loss: 35.6146,   Dis Loss: 3.9054\nTime Taken: 22.3183 seconds. Estimated 0.2170 hours remaining\nEpoch 66,    Gen Loss: 38.3195,   Dis Loss: 3.4394\nTime Taken: 23.4798 seconds. Estimated 0.2218 hours remaining\nEpoch 67,    Gen Loss: 42.8473,   Dis Loss: 2.6351\nTime Taken: 22.4247 seconds. Estimated 0.2056 hours remaining\nEpoch 68,    Gen Loss: 40.9575,   Dis Loss: 3.2071\nTime Taken: 23.4742 seconds. Estimated 0.2087 hours remaining\nEpoch 69,    Gen Loss: 39.1871,   Dis Loss: 3.4655\nTime Taken: 22.8078 seconds. Estimated 0.1964 hours remaining\nEpoch 70,    Gen Loss: 38.0126,   Dis Loss: 3.4716\nTime Taken: 22.8023 seconds. Estimated 0.1900 hours remaining\nEpoch 71,    Gen Loss: 35.4821,   Dis Loss: 4.2400\nTime Taken: 22.2902 seconds. Estimated 0.1796 hours remaining\nEpoch 72,    Gen Loss: 32.6903,   Dis Loss: 4.7325\nTime Taken: 22.3501 seconds. Estimated 0.1738 hours remaining\nEpoch 73,    Gen Loss: 30.4124,   Dis Loss: 5.2138\nTime Taken: 22.2293 seconds. Estimated 0.1667 hours remaining\nEpoch 74,    Gen Loss: 31.5625,   Dis Loss: 4.7500\nTime Taken: 22.6060 seconds. Estimated 0.1633 hours remaining\nEpoch 75,    Gen Loss: 33.2586,   Dis Loss: 4.3643\nTime Taken: 22.5700 seconds. Estimated 0.1567 hours remaining\nEpoch 76,    Gen Loss: 30.6725,   Dis Loss: 5.0382\nTime Taken: 22.5161 seconds. Estimated 0.1501 hours remaining\nEpoch 77,    Gen Loss: 31.2535,   Dis Loss: 4.7131\nTime Taken: 20.5941 seconds. Estimated 0.1316 hours remaining\nEpoch 78,    Gen Loss: 34.7049,   Dis Loss: 4.1216\nTime Taken: 20.3317 seconds. Estimated 0.1242 hours remaining\nEpoch 79,    Gen Loss: 32.1772,   Dis Loss: 4.7540\nTime Taken: 22.0387 seconds. Estimated 0.1286 hours remaining\nEpoch 80,    Gen Loss: 30.2842,   Dis Loss: 5.1583\nTime Taken: 22.4350 seconds. Estimated 0.1246 hours remaining\nEpoch 81,    Gen Loss: 30.8629,   Dis Loss: 4.9721\nTime Taken: 21.8251 seconds. Estimated 0.1152 hours remaining\nEpoch 82,    Gen Loss: 30.3046,   Dis Loss: 5.1428\nTime Taken: 23.3650 seconds. Estimated 0.1168 hours remaining\nEpoch 83,    Gen Loss: 32.4549,   Dis Loss: 4.5368\nTime Taken: 22.1468 seconds. Estimated 0.1046 hours remaining\nEpoch 84,    Gen Loss: 32.7963,   Dis Loss: 4.6557\nTime Taken: 22.5733 seconds. Estimated 0.1003 hours remaining\nEpoch 85,    Gen Loss: 32.3284,   Dis Loss: 4.5084\nTime Taken: 22.7540 seconds. Estimated 0.0948 hours remaining\nEpoch 86,    Gen Loss: 31.8456,   Dis Loss: 4.6290\nTime Taken: 22.5243 seconds. Estimated 0.0876 hours remaining\nEpoch 87,    Gen Loss: 28.5456,   Dis Loss: 5.5214\nTime Taken: 23.3381 seconds. Estimated 0.0843 hours remaining\nEpoch 88,    Gen Loss: 30.4980,   Dis Loss: 4.9141\nTime Taken: 23.0691 seconds. Estimated 0.0769 hours remaining\nEpoch 89,    Gen Loss: 32.2836,   Dis Loss: 4.5108\nTime Taken: 23.0276 seconds. Estimated 0.0704 hours remaining\nEpoch 90,    Gen Loss: 34.9237,   Dis Loss: 3.9595\nTime Taken: 22.0939 seconds. Estimated 0.0614 hours remaining\nEpoch 91,    Gen Loss: 35.1419,   Dis Loss: 3.9792\nTime Taken: 22.1080 seconds. Estimated 0.0553 hours remaining\nEpoch 92,    Gen Loss: 35.0094,   Dis Loss: 4.0918\nTime Taken: 22.2671 seconds. Estimated 0.0495 hours remaining\nEpoch 93,    Gen Loss: 33.3877,   Dis Loss: 4.3483\nTime Taken: 22.3484 seconds. Estimated 0.0435 hours remaining\nEpoch 94,    Gen Loss: 32.1006,   Dis Loss: 4.4825\nTime Taken: 22.0223 seconds. Estimated 0.0367 hours remaining\nEpoch 95,    Gen Loss: 32.9470,   Dis Loss: 4.4845\nTime Taken: 22.2527 seconds. Estimated 0.0309 hours remaining\nEpoch 96,    Gen Loss: 33.8145,   Dis Loss: 4.4057\nTime Taken: 22.1777 seconds. Estimated 0.0246 hours remaining\nEpoch 97,    Gen Loss: 32.3523,   Dis Loss: 4.5208\nTime Taken: 21.9899 seconds. Estimated 0.0183 hours remaining\nEpoch 98,    Gen Loss: 35.5028,   Dis Loss: 3.8502\nTime Taken: 21.9784 seconds. Estimated 0.0122 hours remaining\nEpoch 99,    Gen Loss: 37.4817,   Dis Loss: 3.6909\nTime Taken: 22.2361 seconds. Estimated 0.0062 hours remaining\nTraining Finished. Took 2230.5655 seconds or 0.6196 hours to complete.\n"
    }
   ],
   "source": [
    "#define dataset and hyperparemeters\n",
    "data_directory = 'data'\n",
    "saved_image_directory = 'data/saved_images'\n",
    "saved_model_directory = 'saved_models'\n",
    "class_size = 10\n",
    "embedding_dim = 8\n",
    "batch_size = 64\n",
    "device = 'cuda' if torch.cuda.is_available() else 'cpu'\n",
    "num_workers = 2\n",
    "epochs = 100\n",
    "\n",
    "!python train.py --data_directory=$data_directory --saved_image_directory=$saved_image_directory --saved_model_directory=$saved_model_directory --batch_size=$batch_size --class_size=$class_size --embedding_dim=$embedding_dim --device=$device --num_workers=$num_workers --epochs=$epochs"
   ]
  },
  {
   "cell_type": "code",
   "execution_count": null,
   "metadata": {},
   "outputs": [],
   "source": []
  }
 ]
}